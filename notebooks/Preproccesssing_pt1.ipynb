{
 "cells": [
  {
   "cell_type": "code",
   "execution_count": 8,
   "metadata": {},
   "outputs": [],
   "source": [
    "import pandas as pd \n",
    "import numpy as np "
   ]
  },
  {
   "cell_type": "code",
   "execution_count": 9,
   "metadata": {},
   "outputs": [],
   "source": [
    "df_first = pd.read_csv('bike_specall.csv')"
   ]
  },
  {
   "cell_type": "code",
   "execution_count": 66,
   "metadata": {},
   "outputs": [
    {
     "data": {
      "text/html": [
       "<div>\n",
       "<style scoped>\n",
       "    .dataframe tbody tr th:only-of-type {\n",
       "        vertical-align: middle;\n",
       "    }\n",
       "\n",
       "    .dataframe tbody tr th {\n",
       "        vertical-align: top;\n",
       "    }\n",
       "\n",
       "    .dataframe thead th {\n",
       "        text-align: right;\n",
       "    }\n",
       "</style>\n",
       "<table border=\"1\" class=\"dataframe\">\n",
       "  <thead>\n",
       "    <tr style=\"text-align: right;\">\n",
       "      <th></th>\n",
       "      <th>Bike Name</th>\n",
       "      <th>Price</th>\n",
       "      <th>Feature</th>\n",
       "      <th>Value</th>\n",
       "      <th>Section Title</th>\n",
       "    </tr>\n",
       "  </thead>\n",
       "  <tbody>\n",
       "    <tr>\n",
       "      <th>0</th>\n",
       "      <td>Hero Splendor Plus</td>\n",
       "      <td>75,141 - 77,986</td>\n",
       "      <td>Engine Type</td>\n",
       "      <td>Air cooled, 4-stroke, Single cylinder, OHC</td>\n",
       "      <td>Engine and Transmission</td>\n",
       "    </tr>\n",
       "    <tr>\n",
       "      <th>1</th>\n",
       "      <td>Hero Splendor Plus</td>\n",
       "      <td>75,141 - 77,986</td>\n",
       "      <td>Displacement</td>\n",
       "      <td>97.2 cc</td>\n",
       "      <td>Engine and Transmission</td>\n",
       "    </tr>\n",
       "    <tr>\n",
       "      <th>2</th>\n",
       "      <td>Hero Splendor Plus</td>\n",
       "      <td>75,141 - 77,986</td>\n",
       "      <td>Max Torque</td>\n",
       "      <td>8.05 Nm @ 6000 rpm</td>\n",
       "      <td>Engine and Transmission</td>\n",
       "    </tr>\n",
       "    <tr>\n",
       "      <th>3</th>\n",
       "      <td>Hero Splendor Plus</td>\n",
       "      <td>75,141 - 77,986</td>\n",
       "      <td>No. of Cylinders</td>\n",
       "      <td>1</td>\n",
       "      <td>Engine and Transmission</td>\n",
       "    </tr>\n",
       "    <tr>\n",
       "      <th>4</th>\n",
       "      <td>Hero Splendor Plus</td>\n",
       "      <td>75,141 - 77,986</td>\n",
       "      <td>Cooling System</td>\n",
       "      <td>Air Cooled</td>\n",
       "      <td>Engine and Transmission</td>\n",
       "    </tr>\n",
       "    <tr>\n",
       "      <th>...</th>\n",
       "      <td>...</td>\n",
       "      <td>...</td>\n",
       "      <td>...</td>\n",
       "      <td>...</td>\n",
       "      <td>...</td>\n",
       "    </tr>\n",
       "    <tr>\n",
       "      <th>14772</th>\n",
       "      <td>Ola S1 Air</td>\n",
       "      <td>1.05 Lakh</td>\n",
       "      <td>Geo-fencing</td>\n",
       "      <td>Yes</td>\n",
       "      <td>App Features</td>\n",
       "    </tr>\n",
       "    <tr>\n",
       "      <th>14773</th>\n",
       "      <td>Ola S1 Air</td>\n",
       "      <td>1.05 Lakh</td>\n",
       "      <td>Anti Theft Alarm</td>\n",
       "      <td>Yes</td>\n",
       "      <td>App Features</td>\n",
       "    </tr>\n",
       "    <tr>\n",
       "      <th>14774</th>\n",
       "      <td>Ola S1 Air</td>\n",
       "      <td>1.05 Lakh</td>\n",
       "      <td>Calls &amp; Messaging</td>\n",
       "      <td>Yes</td>\n",
       "      <td>App Features</td>\n",
       "    </tr>\n",
       "    <tr>\n",
       "      <th>14775</th>\n",
       "      <td>Ola S1 Air</td>\n",
       "      <td>1.05 Lakh</td>\n",
       "      <td>Navigation assist</td>\n",
       "      <td>Yes</td>\n",
       "      <td>App Features</td>\n",
       "    </tr>\n",
       "    <tr>\n",
       "      <th>14776</th>\n",
       "      <td>Ola S1 Air</td>\n",
       "      <td>1.05 Lakh</td>\n",
       "      <td>Low battery alert</td>\n",
       "      <td>Yes</td>\n",
       "      <td>App Features</td>\n",
       "    </tr>\n",
       "  </tbody>\n",
       "</table>\n",
       "<p>14777 rows × 5 columns</p>\n",
       "</div>"
      ],
      "text/plain": [
       "                Bike Name            Price            Feature  \\\n",
       "0      Hero Splendor Plus  75,141 - 77,986        Engine Type   \n",
       "1      Hero Splendor Plus  75,141 - 77,986       Displacement   \n",
       "2      Hero Splendor Plus  75,141 - 77,986         Max Torque   \n",
       "3      Hero Splendor Plus  75,141 - 77,986   No. of Cylinders   \n",
       "4      Hero Splendor Plus  75,141 - 77,986     Cooling System   \n",
       "...                   ...              ...                ...   \n",
       "14772          Ola S1 Air        1.05 Lakh        Geo-fencing   \n",
       "14773          Ola S1 Air        1.05 Lakh   Anti Theft Alarm   \n",
       "14774          Ola S1 Air        1.05 Lakh  Calls & Messaging   \n",
       "14775          Ola S1 Air        1.05 Lakh  Navigation assist   \n",
       "14776          Ola S1 Air        1.05 Lakh  Low battery alert   \n",
       "\n",
       "                                            Value            Section Title  \n",
       "0      Air cooled, 4-stroke, Single cylinder, OHC  Engine and Transmission  \n",
       "1                                         97.2 cc  Engine and Transmission  \n",
       "2                              8.05 Nm @ 6000 rpm  Engine and Transmission  \n",
       "3                                               1  Engine and Transmission  \n",
       "4                                      Air Cooled  Engine and Transmission  \n",
       "...                                           ...                      ...  \n",
       "14772                                         Yes             App Features  \n",
       "14773                                         Yes             App Features  \n",
       "14774                                         Yes             App Features  \n",
       "14775                                         Yes             App Features  \n",
       "14776                                         Yes             App Features  \n",
       "\n",
       "[14777 rows x 5 columns]"
      ]
     },
     "execution_count": 66,
     "metadata": {},
     "output_type": "execute_result"
    }
   ],
   "source": [
    "df_first"
   ]
  },
  {
   "cell_type": "markdown",
   "metadata": {},
   "source": [
    "# 1. Feature understanding \n"
   ]
  },
  {
   "cell_type": "code",
   "execution_count": null,
   "metadata": {},
   "outputs": [],
   "source": [
    "dfx = df_first['Feature'].value_counts()\n",
    "# print(dfx)\n",
    "# dfx = pd.DataFrame(dfx)"
   ]
  },
  {
   "cell_type": "code",
   "execution_count": null,
   "metadata": {},
   "outputs": [],
   "source": [
    "dfx"
   ]
  },
  {
   "cell_type": "code",
   "execution_count": 22,
   "metadata": {},
   "outputs": [],
   "source": [
    "dfx.reset_index(inplace=True)\n"
   ]
  },
  {
   "cell_type": "code",
   "execution_count": null,
   "metadata": {},
   "outputs": [],
   "source": [
    "# unique_values = dfx['Feature'].unique()\n",
    "# for value in unique_values:\n",
    "#     print(value)\n",
    "dfx['Feature'].unique()"
   ]
  },
  {
   "cell_type": "markdown",
   "metadata": {},
   "source": [
    "## Feature csv extraction"
   ]
  },
  {
   "cell_type": "code",
   "execution_count": 24,
   "metadata": {},
   "outputs": [],
   "source": [
    "unique_values = pd.DataFrame(unique_values)"
   ]
  },
  {
   "cell_type": "code",
   "execution_count": 46,
   "metadata": {},
   "outputs": [],
   "source": [
    "# Drop the 'level_0' and '0' columns\n",
    "# unique_values.drop(columns=['index'], inplace=True)"
   ]
  },
  {
   "cell_type": "code",
   "execution_count": null,
   "metadata": {},
   "outputs": [],
   "source": [
    "unique_values.columns = ['Features']\n",
    "\n",
    "print(unique_values)"
   ]
  },
  {
   "cell_type": "code",
   "execution_count": 63,
   "metadata": {},
   "outputs": [],
   "source": [
    "# unique_values.index = range(1, len(unique_values) + 1)\n",
    "# unique_values.to_csv(\"All_features.csv\", index=False)\n"
   ]
  },
  {
   "cell_type": "markdown",
   "metadata": {},
   "source": []
  }
 ],
 "metadata": {
  "kernelspec": {
   "display_name": "Python 3",
   "language": "python",
   "name": "python3"
  },
  "language_info": {
   "codemirror_mode": {
    "name": "ipython",
    "version": 3
   },
   "file_extension": ".py",
   "mimetype": "text/x-python",
   "name": "python",
   "nbconvert_exporter": "python",
   "pygments_lexer": "ipython3",
   "version": "3.11.8"
  }
 },
 "nbformat": 4,
 "nbformat_minor": 2
}
