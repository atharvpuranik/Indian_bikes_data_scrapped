{
 "cells": [
  {
   "cell_type": "code",
   "execution_count": 1,
   "metadata": {},
   "outputs": [],
   "source": [
    "import pandas as pd \n",
    "import numpy as np "
   ]
  },
  {
   "cell_type": "code",
   "execution_count": 2,
   "metadata": {},
   "outputs": [],
   "source": [
    "df_first = pd.read_csv('/Users/atharv/Desktop/Bikes_scrapping/notebooks/popular_bike_brands_india_df.csv')"
   ]
  },
  {
   "cell_type": "code",
   "execution_count": 3,
   "metadata": {},
   "outputs": [
    {
     "data": {
      "text/html": [
       "<div>\n",
       "<style scoped>\n",
       "    .dataframe tbody tr th:only-of-type {\n",
       "        vertical-align: middle;\n",
       "    }\n",
       "\n",
       "    .dataframe tbody tr th {\n",
       "        vertical-align: top;\n",
       "    }\n",
       "\n",
       "    .dataframe thead th {\n",
       "        text-align: right;\n",
       "    }\n",
       "</style>\n",
       "<table border=\"1\" class=\"dataframe\">\n",
       "  <thead>\n",
       "    <tr style=\"text-align: right;\">\n",
       "      <th></th>\n",
       "      <th>Name</th>\n",
       "      <th>Price</th>\n",
       "      <th>Basic Specs</th>\n",
       "    </tr>\n",
       "  </thead>\n",
       "  <tbody>\n",
       "    <tr>\n",
       "      <th>0</th>\n",
       "      <td>Ather 450X</td>\n",
       "      <td>Rs.1.26 - 1.29 Lakh*</td>\n",
       "      <td>6.4 kW5.45 Hr</td>\n",
       "    </tr>\n",
       "    <tr>\n",
       "      <th>1</th>\n",
       "      <td>Ather 450S</td>\n",
       "      <td>Rs.97,547*</td>\n",
       "      <td>5.4 kW8.36 Hr</td>\n",
       "    </tr>\n",
       "    <tr>\n",
       "      <th>2</th>\n",
       "      <td>Ather 450 Apex</td>\n",
       "      <td>Rs.1.89 Lakh*</td>\n",
       "      <td>7 kW5.45 Hr</td>\n",
       "    </tr>\n",
       "    <tr>\n",
       "      <th>3</th>\n",
       "      <td>Revolt RV400</td>\n",
       "      <td>Rs.1.27 - 1.44 Lakh*</td>\n",
       "      <td>3 kW4.5 Hr</td>\n",
       "    </tr>\n",
       "    <tr>\n",
       "      <th>4</th>\n",
       "      <td>Revolt RV400 BRZ</td>\n",
       "      <td>Rs.1.32 Lakh*</td>\n",
       "      <td>3 kW4.5 Hr</td>\n",
       "    </tr>\n",
       "    <tr>\n",
       "      <th>...</th>\n",
       "      <td>...</td>\n",
       "      <td>...</td>\n",
       "      <td>...</td>\n",
       "    </tr>\n",
       "    <tr>\n",
       "      <th>237</th>\n",
       "      <td>Hero Xtreme 160R 4V</td>\n",
       "      <td>Rs.1.27 - 1.37 Lakh*</td>\n",
       "      <td>48.28 kmpl163.2 cc16.9 PS</td>\n",
       "    </tr>\n",
       "    <tr>\n",
       "      <th>238</th>\n",
       "      <td>Hero HF 100</td>\n",
       "      <td>Rs.59,018*</td>\n",
       "      <td>70 kmpl97.2 cc8.02 PS</td>\n",
       "    </tr>\n",
       "    <tr>\n",
       "      <th>239</th>\n",
       "      <td>Hero Xtreme 200S 4V</td>\n",
       "      <td>Rs.1.41 Lakh*</td>\n",
       "      <td>40 kmpl199.6 cc19.1 PS</td>\n",
       "    </tr>\n",
       "    <tr>\n",
       "      <th>240</th>\n",
       "      <td>Hero XPulse 200T 4V</td>\n",
       "      <td>Rs.1.40 Lakh*</td>\n",
       "      <td>40 kmpl199.6 cc19.1 PS</td>\n",
       "    </tr>\n",
       "    <tr>\n",
       "      <th>241</th>\n",
       "      <td>Hero Destini Prime</td>\n",
       "      <td>Rs.71,499*</td>\n",
       "      <td>56 kmpl124.6 cc9.09 PS</td>\n",
       "    </tr>\n",
       "  </tbody>\n",
       "</table>\n",
       "<p>242 rows × 3 columns</p>\n",
       "</div>"
      ],
      "text/plain": [
       "                    Name                 Price                Basic Specs\n",
       "0             Ather 450X  Rs.1.26 - 1.29 Lakh*              6.4 kW5.45 Hr\n",
       "1             Ather 450S            Rs.97,547*              5.4 kW8.36 Hr\n",
       "2         Ather 450 Apex         Rs.1.89 Lakh*                7 kW5.45 Hr\n",
       "3           Revolt RV400  Rs.1.27 - 1.44 Lakh*                 3 kW4.5 Hr\n",
       "4       Revolt RV400 BRZ         Rs.1.32 Lakh*                 3 kW4.5 Hr\n",
       "..                   ...                   ...                        ...\n",
       "237  Hero Xtreme 160R 4V  Rs.1.27 - 1.37 Lakh*  48.28 kmpl163.2 cc16.9 PS\n",
       "238          Hero HF 100            Rs.59,018*      70 kmpl97.2 cc8.02 PS\n",
       "239  Hero Xtreme 200S 4V         Rs.1.41 Lakh*     40 kmpl199.6 cc19.1 PS\n",
       "240  Hero XPulse 200T 4V         Rs.1.40 Lakh*     40 kmpl199.6 cc19.1 PS\n",
       "241   Hero Destini Prime            Rs.71,499*     56 kmpl124.6 cc9.09 PS\n",
       "\n",
       "[242 rows x 3 columns]"
      ]
     },
     "execution_count": 3,
     "metadata": {},
     "output_type": "execute_result"
    }
   ],
   "source": [
    "df_first"
   ]
  },
  {
   "cell_type": "code",
   "execution_count": null,
   "metadata": {},
   "outputs": [],
   "source": []
  }
 ],
 "metadata": {
  "kernelspec": {
   "display_name": "Python 3",
   "language": "python",
   "name": "python3"
  },
  "language_info": {
   "codemirror_mode": {
    "name": "ipython",
    "version": 3
   },
   "file_extension": ".py",
   "mimetype": "text/x-python",
   "name": "python",
   "nbconvert_exporter": "python",
   "pygments_lexer": "ipython3",
   "version": "3.11.8"
  }
 },
 "nbformat": 4,
 "nbformat_minor": 2
}
